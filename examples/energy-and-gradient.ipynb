{
 "cells": [
  {
   "cell_type": "markdown",
   "source": [
    "# Training Against QM Energies and Gradients\n",
    "\n",
    "This notebook aims to show how the [`descent`](https://github.com/SimonBoothroyd/descent) framework in combination with\n",
    "[`smirnoffee`](https://github.com/SimonBoothroyd/smirnoffee) can be used to train a set of SMIRNOFF force field bond and\n",
    "angle force constant parameters against the QM computed energies and associated gradients of a small molecule in\n",
    "multiple conformers.\n",
    "\n",
    "For the sake of clarity all warning will be disabled:"
   ],
   "metadata": {
    "collapsed": false,
    "pycharm": {
     "name": "#%% md\n"
    }
   }
  },
  {
   "cell_type": "code",
   "execution_count": 1,
   "outputs": [],
   "source": [
    "import warnings\n",
    "warnings.filterwarnings('ignore')\n",
    "import logging\n",
    "logging.getLogger(\"openff.toolkit\").setLevel(logging.ERROR)"
   ],
   "metadata": {
    "collapsed": false,
    "pycharm": {
     "name": "#%%\n"
    }
   }
  },
  {
   "cell_type": "markdown",
   "source": [
    "### Retrieving the QM training set\n",
    "\n",
    "For this example we will be training against QM energies which have been computed by and stored within the\n",
    "[QCArchive](https://qcarchive.molssi.org/), which are easily retrieved using the [OpenFF QCSubmit](https://github.com/openforcefield/openff-qcsubmit)\n",
    "package.\n",
    "\n",
    "We begin by importing the records associated with the `OpenFF Optimization Set 1` optimization data set:"
   ],
   "metadata": {
    "collapsed": false,
    "pycharm": {
     "name": "#%% md\n"
    }
   }
  },
  {
   "cell_type": "code",
   "execution_count": 2,
   "outputs": [
    {
     "name": "stderr",
     "output_type": "stream",
     "text": [
      "Warning: importing 'simtk.openmm' is deprecated.  Import 'openmm' instead.\n"
     ]
    }
   ],
   "source": [
    "from qcportal import FractalClient\n",
    "\n",
    "from openff.qcsubmit.results import OptimizationResultCollection\n",
    "\n",
    "result_collection = OptimizationResultCollection.from_server(\n",
    "    client=FractalClient(),\n",
    "    datasets=\"OpenFF Optimization Set 1\"\n",
    ")"
   ],
   "metadata": {
    "collapsed": false,
    "pycharm": {
     "name": "#%%\n"
    }
   }
  },
  {
   "cell_type": "markdown",
   "source": [
    "which we will then filter to retain a small molecule which will be fast to train on as a demonstration:"
   ],
   "metadata": {
    "collapsed": false,
    "pycharm": {
     "name": "#%% md\n"
    }
   }
  },
  {
   "cell_type": "code",
   "source": [
    "from openff.qcsubmit.results.filters import ConformerRMSDFilter, SMILESFilter\n",
    "\n",
    "result_collection = result_collection.filter(\n",
    "    SMILESFilter(smiles_to_include=[\"CC(=O)NCC1=NC=CN1C\"]),\n",
    "    # Only retain conformers with an RMSD greater than 0.5 Å.\n",
    "    ConformerRMSDFilter(max_conformers=10, rmsd_tolerance=0.5)\n",
    ")\n",
    "\n",
    "print(f\"N Molecules:  {result_collection.n_molecules}\")\n",
    "print(f\"N Conformers: {result_collection.n_results}\")"
   ],
   "metadata": {
    "collapsed": false,
    "pycharm": {
     "name": "#%%\n"
    }
   },
   "execution_count": 3,
   "outputs": [
    {
     "name": "stdout",
     "output_type": "stream",
     "text": [
      "N Molecules:  1\n",
      "N Conformers: 3\n"
     ]
    }
   ]
  },
  {
   "cell_type": "markdown",
   "source": [
    "You should see that our filtered collection contains the 6 results, which corresponds to 6 minimized conformers (and\n",
    "their associated energy computed using the OpenFF default B3LYP-D3BJ spec) for the molecule we filtered for above.\n",
    "\n",
    "### Defining the objective ( / loss) function\n",
    "\n",
    "For this example we will be training our force field parameters against:\n",
    "\n",
    "* the relative energies between each conformer with the first conformer of the molecule\n",
    "* the deviations between the QM and MM gradients projected along the redundant internal coordinates (RIC) of\n",
    "  the molecule.\n",
    "\n",
    "The construction of such a loss function is made trivial using the built-in ``EnergyObjective`` class which can be\n",
    "created directly from the collection of optimization results we retrieved above:\n",
    "\n",
    "We first load in the initial force field parameters ($\\theta$) using the [OpenFF Toolkit](https://github.com/openforcefield/openff-toolkit):"
   ],
   "metadata": {
    "collapsed": false
   }
  },
  {
   "cell_type": "code",
   "execution_count": 4,
   "outputs": [],
   "source": [
    "from openff.toolkit.typing.engines.smirnoff import ForceField\n",
    "initial_force_field = ForceField(\"openff_unconstrained-1.0.0.offxml\")"
   ],
   "metadata": {
    "collapsed": false,
    "pycharm": {
     "name": "#%%\n"
    }
   }
  },
  {
   "cell_type": "markdown",
   "source": [
    "which we can then use to construct our contribution objects:"
   ],
   "metadata": {
    "collapsed": false,
    "pycharm": {
     "name": "#%% md\n"
    }
   }
  },
  {
   "cell_type": "code",
   "execution_count": 5,
   "outputs": [],
   "source": [
    "from descent import metrics, transforms\n",
    "from descent.objectives.energy import EnergyObjective\n",
    "\n",
    "objective_contributions = EnergyObjective.from_optimization_results(\n",
    "    result_collection,\n",
    "    initial_force_field,\n",
    "    # State that we want to include energies and gradients when computing\n",
    "    # the contribution to the loss function.\n",
    "    include_energies=True,\n",
    "    include_gradients=True,\n",
    "    # Specify that we want use energies relative to the first conformer\n",
    "    # when evaluating the loss function\n",
    "    energy_transforms=transforms.relative(index=0),\n",
    "    # Use the built-in MSE metric when comparing the MM and QM relative\n",
    "    # energies.\n",
    "    energy_metric=metrics.mse(),\n",
    "    # For this example with will use the QM and MM gradients directly when\n",
    "    # computing the loss function.\n",
    "    gradient_transforms=transforms.identity(),\n",
    "    # Use the built-in MSE metric when comparing the MM and QM gradients\n",
    "    gradient_metric=metrics.mse(),\n",
    "    # State that we want to project the gradients along the RICs\n",
    "    gradient_coordinate_system=\"ric\"\n",
    ")"
   ],
   "metadata": {
    "collapsed": false,
    "pycharm": {
     "name": "#%%\n"
    }
   }
  },
  {
   "cell_type": "markdown",
   "source": [
    "The returned `objective_contributions` will contain one objective object per unique molecule in the\n",
    "`result_collection`:"
   ],
   "metadata": {
    "collapsed": false,
    "pycharm": {
     "name": "#%% md\n"
    }
   }
  },
  {
   "cell_type": "code",
   "execution_count": 6,
   "outputs": [
    {
     "data": {
      "text/plain": "1"
     },
     "execution_count": 6,
     "metadata": {},
     "output_type": "execute_result"
    }
   ],
   "source": [
    "len(objective_contributions)"
   ],
   "metadata": {
    "collapsed": false,
    "pycharm": {
     "name": "#%%\n"
    }
   }
  },
  {
   "cell_type": "markdown",
   "source": [
    "as we filtered our initial result collection to only contain a single molecule, so too do we only have a single\n",
    "contribution.\n",
    "\n",
    "### Specifying the parameters to train\n",
    "\n",
    "For this example will will train all of the bond and force constants that were assigned to our molecule\n",
    "of interest:"
   ],
   "metadata": {
    "collapsed": false,
    "pycharm": {
     "name": "#%% md\n"
    }
   }
  },
  {
   "cell_type": "code",
   "execution_count": 7,
   "outputs": [],
   "source": [
    "parameter_delta_ids = sorted(\n",
    "    {\n",
    "        (handler_type, potential_key, attribute)\n",
    "        for contribution in objective_contributions\n",
    "        for handler_type, potential_key, attribute in contribution.parameter_ids\n",
    "        if handler_type in [\"Bonds\", \"Angles\"] and attribute == \"k\"\n",
    "    },\n",
    "    key=lambda x: x[0],\n",
    "    reverse=True\n",
    ")"
   ],
   "metadata": {
    "collapsed": false,
    "pycharm": {
     "name": "#%%\n"
    }
   }
  },
  {
   "cell_type": "markdown",
   "source": [
    "where here we have made use of the ``parameter_ids`` property that contains the unique identifiers of\n",
    "the parameters that were assigned to the molecule referenced by the object."
   ],
   "metadata": {
    "collapsed": false,
    "pycharm": {
     "name": "#%% md\n"
    }
   }
  },
  {
   "cell_type": "code",
   "execution_count": 8,
   "outputs": [
    {
     "data": {
      "text/plain": "[('Bonds',\n  PotentialKey(id='[#6X3:1](=[#8X1+0])-[#7X3:2]', mult=None, associated_handler='Bonds'),\n  'k'),\n ('Bonds',\n  PotentialKey(id='[#6X3:1]=[#6X3:2]', mult=None, associated_handler='Bonds'),\n  'k')]"
     },
     "execution_count": 8,
     "metadata": {},
     "output_type": "execute_result"
    }
   ],
   "source": [
    "parameter_delta_ids[:2]"
   ],
   "metadata": {
    "collapsed": false,
    "pycharm": {
     "name": "#%%\n"
    }
   }
  },
  {
   "cell_type": "markdown",
   "source": [
    "These ids are comprised of the type of SMIRNOFF parameter handler that the parameter originated from,\n",
    "a key containing the id (in this case the SMIRKS pattern) associated with the parameter and the specific\n",
    "attribute of the parameter (e.g. the force constant ``k``).\n",
    "\n",
    "These keys will allow us to map our tensor of delta values:"
   ],
   "metadata": {
    "collapsed": false,
    "pycharm": {
     "name": "#%% md\n"
    }
   }
  },
  {
   "cell_type": "code",
   "execution_count": 9,
   "outputs": [],
   "source": [
    "import torch\n",
    "\n",
    "parameter_delta = torch.zeros(len(parameter_delta_ids), requires_grad=True)"
   ],
   "metadata": {
    "collapsed": false,
    "pycharm": {
     "name": "#%%\n"
    }
   }
  },
  {
   "cell_type": "markdown",
   "source": [
    "easily back to more meaningful force field parameters.\n",
    "\n",
    "### Training the force field parameters\n",
    "\n",
    "We are finally ready to begin training our force field parameters, or more precisely, the delta value that\n",
    "we should perturb the force field parameters by to reach better agreement with the training data.\n",
    "\n",
    "Here we will use the 'boilerplate `pytorch` optimization loop':"
   ],
   "metadata": {
    "collapsed": false,
    "pycharm": {
     "name": "#%% md\n"
    }
   }
  },
  {
   "cell_type": "code",
   "execution_count": 10,
   "outputs": [
    {
     "name": "stdout",
     "output_type": "stream",
     "text": [
      "Epoch 0: loss=541.970458984375\n",
      "Epoch 20: loss=316.5989990234375\n",
      "Epoch 40: loss=302.3933410644531\n",
      "Epoch 60: loss=298.25592041015625\n",
      "Epoch 80: loss=296.67816162109375\n",
      "Epoch 100: loss=296.056396484375\n",
      "Epoch 120: loss=295.83831787109375\n",
      "Epoch 140: loss=295.7755126953125\n",
      "Epoch 160: loss=295.7544250488281\n",
      "Epoch 180: loss=295.7417297363281\n"
     ]
    }
   ],
   "source": [
    "lr = 0.01\n",
    "n_epochs = 200\n",
    "\n",
    "optimizer = torch.optim.Adam([parameter_delta], lr=lr)\n",
    "\n",
    "for epoch in range(n_epochs):\n",
    "\n",
    "    loss = torch.zeros(1)\n",
    "\n",
    "    for objective_contribution in objective_contributions:\n",
    "        loss += objective_contribution(parameter_delta, parameter_delta_ids)\n",
    "\n",
    "    loss.backward()\n",
    "\n",
    "    optimizer.step()\n",
    "    optimizer.zero_grad()\n",
    "\n",
    "    if epoch % 20 == 0:\n",
    "        print(f\"Epoch {epoch}: loss={loss.item()}\")"
   ],
   "metadata": {
    "collapsed": false,
    "pycharm": {
     "name": "#%%\n"
    }
   }
  },
  {
   "cell_type": "markdown",
   "source": [
    "where the only code of note is the loop over our objective contributions which get added to the total\n",
    "loss function.\n",
    "\n",
    "We can save our trained parameters back to a SMIRNOFF `.offxml` file for future use:"
   ],
   "metadata": {
    "collapsed": false,
    "pycharm": {
     "name": "#%% md\n"
    }
   }
  },
  {
   "cell_type": "code",
   "execution_count": 11,
   "outputs": [],
   "source": [
    "from descent.utilities.smirnoff import perturb_force_field\n",
    "\n",
    "final_force_field = perturb_force_field(\n",
    "    initial_force_field, parameter_delta, parameter_delta_ids\n",
    ")\n",
    "final_force_field.to_file(\"final.offxml\")"
   ],
   "metadata": {
    "collapsed": false,
    "pycharm": {
     "name": "#%%\n"
    }
   }
  },
  {
   "cell_type": "markdown",
   "source": [
    "or print out the initial and final values."
   ],
   "metadata": {
    "collapsed": false,
    "pycharm": {
     "name": "#%% md\n"
    }
   }
  },
  {
   "cell_type": "code",
   "execution_count": 12,
   "outputs": [
    {
     "name": "stdout",
     "output_type": "stream",
     "text": [
      "Bonds SMIRKS=[#6X3:1](=[#8X1+0])-[#7X3:2] ATTR=k  INITIAL=1053.970761594 kcal/(A**2 mol)  FINAL=1053.4928565952225 kcal/(A**2 mol)\n",
      "Bonds SMIRKS=[#6X3:1]=[#6X3:2] ATTR=k  INITIAL=857.1115548611 kcal/(A**2 mol)  FINAL=856.6519475195506 kcal/(A**2 mol)\n",
      "Bonds SMIRKS=[#6X4:1]-[#1:2] ATTR=k  INITIAL=758.0931772913 kcal/(A**2 mol)  FINAL=757.615259442764 kcal/(A**2 mol)\n",
      "Bonds SMIRKS=[#6X3:1]-[#7X2:2] ATTR=k  INITIAL=837.2647972972 kcal/(A**2 mol)  FINAL=837.5914970507644 kcal/(A**2 mol)\n",
      "Bonds SMIRKS=[#6X4:1]-[#6X3:2]=[#8X1+0] ATTR=k  INITIAL=612.0537081219 kcal/(A**2 mol)  FINAL=612.5316650040704 kcal/(A**2 mol)\n",
      "Bonds SMIRKS=[#7:1]-[#1:2] ATTR=k  INITIAL=997.7547006218 kcal/(A**2 mol)  FINAL=997.2765224160728 kcal/(A**2 mol)\n",
      "Bonds SMIRKS=[#6X3:1]-[#1:2] ATTR=k  INITIAL=808.1394472833 kcal/(A**2 mol)  FINAL=807.6614951022607 kcal/(A**2 mol)\n",
      "Bonds SMIRKS=[#6X4:1]-[#6X3:2] ATTR=k  INITIAL=612.5097961064 kcal/(A**2 mol)  FINAL=612.0317996492527 kcal/(A**2 mol)\n",
      "Bonds SMIRKS=[#6X3:1]=[#7X2,#7X3+1:2] ATTR=k  INITIAL=882.4191878243 kcal/(A**2 mol)  FINAL=881.9175979284098 kcal/(A**2 mol)\n",
      "Bonds SMIRKS=[#6:1]=[#8X1+0,#8X2+1:2] ATTR=k  INITIAL=1135.595318618 kcal/(A**2 mol)  FINAL=1135.1173281726021 kcal/(A**2 mol)\n",
      "Bonds SMIRKS=[#6X3:1]-[#7X3:2] ATTR=k  INITIAL=719.219372554 kcal/(A**2 mol)  FINAL=718.7519367178918 kcal/(A**2 mol)\n",
      "Bonds SMIRKS=[#6X4:1]-[#7X3:2]-[#6X3]=[#8X1+0] ATTR=k  INITIAL=764.7120801727 kcal/(A**2 mol)  FINAL=765.1674802297943 kcal/(A**2 mol)\n",
      "Bonds SMIRKS=[#6:1]-[#7:2] ATTR=k  INITIAL=719.6326854584 kcal/(A**2 mol)  FINAL=719.1547122789749 kcal/(A**2 mol)\n",
      "Angles SMIRKS=[*:1]~[#7X3$(*~[#6X3,#6X2,#7X2+0]):2]~[*:3] ATTR=k  INITIAL=112.545110149 kcal/(mol rad**2)  FINAL=102.37503371799185 kcal/(mol rad**2)\n",
      "Angles SMIRKS=[#1:1]-[#7X3$(*~[#6X3,#6X2,#7X2+0]):2]-[*:3] ATTR=k  INITIAL=77.52610202633 kcal/(mol rad**2)  FINAL=174.6601460485996 kcal/(mol rad**2)\n",
      "Angles SMIRKS=[*:1]~;!@[*;X3;r5:2]~;@[*;r5:3] ATTR=k  INITIAL=70.66802196994 kcal/(mol rad**2)  FINAL=-10.563765656763124 kcal/(mol rad**2)\n",
      "Angles SMIRKS=[*:1]~[#6X3:2]~[*:3] ATTR=k  INITIAL=153.5899485526 kcal/(mol rad**2)  FINAL=55.08452155057894 kcal/(mol rad**2)\n",
      "Angles SMIRKS=[*:1]~[#7X2+0:2]~[*:3] ATTR=k  INITIAL=226.9001499199 kcal/(mol rad**2)  FINAL=43.02593513271265 kcal/(mol rad**2)\n",
      "Angles SMIRKS=[#1:1]-[#6X4:2]-[#1:3] ATTR=k  INITIAL=74.28701527177 kcal/(mol rad**2)  FINAL=3.6682715114174442 kcal/(mol rad**2)\n",
      "Angles SMIRKS=[*:1]~[#6X4:2]-[*:3] ATTR=k  INITIAL=101.7373362367 kcal/(mol rad**2)  FINAL=25.96669771106467 kcal/(mol rad**2)\n"
     ]
    }
   ],
   "source": [
    "for parameter_handler, potential_key, attribute in parameter_delta_ids:\n",
    "\n",
    "    initial_value = getattr(\n",
    "        initial_force_field[parameter_handler].parameters[potential_key.id], attribute\n",
    "    )\n",
    "    final_value = getattr(\n",
    "        final_force_field[parameter_handler].parameters[potential_key.id], attribute\n",
    "    )\n",
    "\n",
    "    print(\n",
    "        f\"{parameter_handler} SMIRKS={potential_key.id} ATTR={attribute}  INITIAL={initial_value}  FINAL={final_value}\"\n",
    "    )"
   ],
   "metadata": {
    "collapsed": false,
    "pycharm": {
     "name": "#%%\n"
    }
   }
  }
 ],
 "metadata": {
  "kernelspec": {
   "display_name": "Python 3",
   "language": "python",
   "name": "python3"
  },
  "language_info": {
   "codemirror_mode": {
    "name": "ipython",
    "version": 2
   },
   "file_extension": ".py",
   "mimetype": "text/x-python",
   "name": "python",
   "nbconvert_exporter": "python",
   "pygments_lexer": "ipython2",
   "version": "2.7.6"
  }
 },
 "nbformat": 4,
 "nbformat_minor": 0
}