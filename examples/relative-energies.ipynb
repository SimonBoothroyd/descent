{
 "cells": [
  {
   "cell_type": "markdown",
   "source": [
    "# Training Against QM Energies\n",
    "\n",
    "This notebook aims to show how the [`descent`](https://github.com/SimonBoothroyd/descent) framework in combination with\n",
    "[`smirnoffee`](https://github.com/SimonBoothroyd/smirnoffee) can be used to train a set of SMIRNOFF force field bond and\n",
    "angle force constant parameters against the QM derived relative energies of a small molecule in multiple conformers.\n",
    "\n",
    "For the sake of clarity all warning will be disabled:"
   ],
   "metadata": {
    "collapsed": false,
    "pycharm": {
     "name": "#%% md\n"
    }
   }
  },
  {
   "cell_type": "code",
   "execution_count": 1,
   "outputs": [],
   "source": [
    "import warnings\n",
    "warnings.filterwarnings('ignore')\n",
    "import logging\n",
    "logging.getLogger(\"openff.toolkit\").setLevel(logging.ERROR)"
   ],
   "metadata": {
    "collapsed": false,
    "pycharm": {
     "name": "#%%\n"
    }
   }
  },
  {
   "cell_type": "markdown",
   "source": [
    "### Retrieving the QM training set\n",
    "\n",
    "For this example we will be training against QM energies which have been computed by and stored within the\n",
    "[QCArchive](https://qcarchive.molssi.org/), which are easily retrieved using the [OpenFF QCSubmit](https://github.com/openforcefield/openff-qcsubmit)\n",
    "package.\n",
    "\n",
    "We begin by importing the records associated with the `OpenFF Optimization Set 1` optimization data set:"
   ],
   "metadata": {
    "collapsed": false,
    "pycharm": {
     "name": "#%% md\n"
    }
   }
  },
  {
   "cell_type": "code",
   "execution_count": 2,
   "outputs": [],
   "source": [
    "from qcportal import FractalClient\n",
    "\n",
    "from openff.qcsubmit.results import OptimizationResultCollection\n",
    "\n",
    "result_collection = OptimizationResultCollection.from_server(\n",
    "    client=FractalClient(),\n",
    "    datasets=\"OpenFF Optimization Set 1\"\n",
    ")"
   ],
   "metadata": {
    "collapsed": false,
    "pycharm": {
     "name": "#%%\n"
    }
   }
  },
  {
   "cell_type": "markdown",
   "source": [
    "which we will then filter to retain a small molecule which will be fast to train on as a demonstration:"
   ],
   "metadata": {
    "collapsed": false,
    "pycharm": {
     "name": "#%% md\n"
    }
   }
  },
  {
   "cell_type": "code",
   "source": [
    "from openff.qcsubmit.results.filters import SMILESFilter\n",
    "\n",
    "result_collection = result_collection.filter(\n",
    "    SMILESFilter(smiles_to_include=[\"CC(=O)NCC1=NC=CN1C\"])\n",
    ")\n",
    "\n",
    "print(f\"N Molecules: {result_collection.n_molecules}\")\n",
    "print(f\"N Molecules: {result_collection.n_results}\")"
   ],
   "metadata": {
    "collapsed": false,
    "pycharm": {
     "name": "#%%\n"
    }
   },
   "execution_count": 3,
   "outputs": [
    {
     "name": "stdout",
     "output_type": "stream",
     "text": [
      "N Molecules: 1\n",
      "N Molecules: 6\n"
     ]
    }
   ]
  },
  {
   "cell_type": "markdown",
   "source": [
    "You should see that our filtered collection contains the 6 results, which corresponds to 6 minimized conformers (and\n",
    "their associated energy computed using the OpenFF default B3LYP-D3BJ spec) for the molecule we filtered for above.\n",
    "\n",
    "### Defining the Objective ( / loss) function\n",
    "\n",
    "For this example we will be training our force field parameters against the relative energies between the conformers we\n",
    "retrieved above. In particular, we will use the following L2 loss function:\n",
    "\n",
    "$$L2\\left(\\Delta\\theta\\right) = \\dfrac{2}{N\\left(N - 1 \\right )}\\sum ^N _{i=1} \\sum ^N_{j = i+i} \\left[ \\left(E_{QM,i}-E_{QM,j}\\right) - \\left(E_{MM,i}\\left(\\theta + \\Delta\\theta \\right) - E_{MM,j}\\left(\\theta + \\Delta\\theta \\right) \\right) \\right ]^2$$\n",
    "\n",
    "where N is the number of conformers of our given molecule, $E_{QM,i}$ the QM computed energy of conformer $i$,\n",
    "$E_{MM,i}$ the MM energy of conformer $i$, $\\theta$ the initial force field parameters, and $\\Delta\\theta$ the\n",
    "delta term that is being trained and added to the original force field parameters.\n",
    "\n",
    "This loss function is directly encoded into ``descent`` through the ``RelativeEnergyObjective`` object which can be\n",
    "created directly from the collection of optimization results we retrieved above.\n",
    "\n",
    "We first load in the initial force field parameters ($\\theta$) using the [OpenFF Toolkit](https://github.com/openforcefield/openff-toolkit):"
   ],
   "metadata": {
    "collapsed": false
   }
  },
  {
   "cell_type": "code",
   "execution_count": 4,
   "outputs": [],
   "source": [
    "from openff.toolkit.typing.engines.smirnoff import ForceField\n",
    "initial_force_field = ForceField(\"openff_unconstrained-1.0.0.offxml\")"
   ],
   "metadata": {
    "collapsed": false,
    "pycharm": {
     "name": "#%%\n"
    }
   }
  },
  {
   "cell_type": "markdown",
   "source": [
    "which we can then use to construct our contribution objects:"
   ],
   "metadata": {
    "collapsed": false,
    "pycharm": {
     "name": "#%% md\n"
    }
   }
  },
  {
   "cell_type": "code",
   "execution_count": 5,
   "outputs": [],
   "source": [
    "from descent.objectives.energy import RelativeEnergyObjective\n",
    "\n",
    "objective_contributions = RelativeEnergyObjective.from_optimization_results(\n",
    "    result_collection, initial_force_field, include_gradients=False\n",
    ")"
   ],
   "metadata": {
    "collapsed": false,
    "pycharm": {
     "name": "#%%\n"
    }
   }
  },
  {
   "cell_type": "markdown",
   "source": [
    "The returned `objective_contributions` will contain one objective object per unique molecule in the\n",
    "`result_collection`:"
   ],
   "metadata": {
    "collapsed": false,
    "pycharm": {
     "name": "#%% md\n"
    }
   }
  },
  {
   "cell_type": "code",
   "execution_count": 6,
   "outputs": [
    {
     "data": {
      "text/plain": "1"
     },
     "execution_count": 6,
     "metadata": {},
     "output_type": "execute_result"
    }
   ],
   "source": [
    "len(objective_contributions)"
   ],
   "metadata": {
    "collapsed": false,
    "pycharm": {
     "name": "#%%\n"
    }
   }
  },
  {
   "cell_type": "markdown",
   "source": [
    "as we filtered our initial result collection to only contain a single molecule, so too do we only have a single\n",
    "contribution object.\n",
    "\n",
    "### Specifying the parameters to train\n",
    "\n",
    "For this example will will train all of the bond and force constants that were assigned to our molecule\n",
    "of interest:"
   ],
   "metadata": {
    "collapsed": false,
    "pycharm": {
     "name": "#%% md\n"
    }
   }
  },
  {
   "cell_type": "code",
   "execution_count": 7,
   "outputs": [],
   "source": [
    "parameter_delta_ids = sorted(\n",
    "    {\n",
    "        (handler_type, potential_key, attribute)\n",
    "        for contribution in objective_contributions\n",
    "        for handler_type, potential_key, attribute in contribution.parameter_ids\n",
    "        if attribute in \"k\" and handler_type in [\"Bonds\", \"Angles\"]\n",
    "    },\n",
    "    key=lambda x: x[0],\n",
    "    reverse=True\n",
    ")"
   ],
   "metadata": {
    "collapsed": false,
    "pycharm": {
     "name": "#%%\n"
    }
   }
  },
  {
   "cell_type": "markdown",
   "source": [
    "where here we have made use of the ``RelativeEnergyObjective.parameter_ids`` which contains the unique identifiers of\n",
    "the parameters that were assigned to the molecule referenced by the object."
   ],
   "metadata": {
    "collapsed": false,
    "pycharm": {
     "name": "#%% md\n"
    }
   }
  },
  {
   "cell_type": "code",
   "execution_count": 8,
   "outputs": [
    {
     "data": {
      "text/plain": "[('Bonds', PotentialKey(id='[#6:1]=[#8X1+0,#8X2+1:2]', mult=None), 'k'),\n ('Bonds', PotentialKey(id='[#6X3:1]=[#6X3:2]', mult=None), 'k')]"
     },
     "execution_count": 8,
     "metadata": {},
     "output_type": "execute_result"
    }
   ],
   "source": [
    "parameter_delta_ids[:2]"
   ],
   "metadata": {
    "collapsed": false,
    "pycharm": {
     "name": "#%%\n"
    }
   }
  },
  {
   "cell_type": "markdown",
   "source": [
    "These ids are comprised of the type of SMIRNOFF parameter handler that the parameter originated from,\n",
    "a key containing the id (in this case the SMIRKS pattern) associated with the parameter and the specific\n",
    "attribute of the parameter (e.g. the force constant ``k``).\n",
    "\n",
    "These keys will allow us to map our tensor of delta values:"
   ],
   "metadata": {
    "collapsed": false,
    "pycharm": {
     "name": "#%% md\n"
    }
   }
  },
  {
   "cell_type": "code",
   "execution_count": 9,
   "outputs": [],
   "source": [
    "import torch\n",
    "\n",
    "parameter_delta = torch.zeros(len(parameter_delta_ids), requires_grad=True)"
   ],
   "metadata": {
    "collapsed": false,
    "pycharm": {
     "name": "#%%\n"
    }
   }
  },
  {
   "cell_type": "markdown",
   "source": [
    "easily back to more meaningful force field parameters.\n",
    "\n",
    "### Training the force field parameters\n",
    "\n",
    "We are finally ready to begin training our force field parameters, or more precisely, the delta value that\n",
    "we should perturb the force field parameters by to reach better agreement with the training data.\n",
    "\n",
    "Here we will use the 'boilerplate Pytorch optimization loop':"
   ],
   "metadata": {
    "collapsed": false,
    "pycharm": {
     "name": "#%% md\n"
    }
   }
  },
  {
   "cell_type": "code",
   "execution_count": 10,
   "outputs": [
    {
     "name": "stdout",
     "output_type": "stream",
     "text": [
      "Epoch 0: loss=0.10203274339437485\n",
      "Epoch 20: loss=0.037074923515319824\n",
      "Epoch 40: loss=0.0014350797282531857\n",
      "Epoch 60: loss=0.0023795373272150755\n",
      "Epoch 80: loss=0.001053333398886025\n",
      "Epoch 100: loss=0.0008100062841549516\n",
      "Epoch 120: loss=0.0007415462168864906\n",
      "Epoch 140: loss=0.0006738712545484304\n",
      "Epoch 160: loss=0.0006102666957303882\n",
      "Epoch 180: loss=0.0005511701456271112\n"
     ]
    }
   ],
   "source": [
    "lr = 0.1\n",
    "n_epochs = 200\n",
    "\n",
    "optimizer = torch.optim.Adam([parameter_delta], lr=lr)\n",
    "\n",
    "for epoch in range(n_epochs):\n",
    "\n",
    "    loss = torch.zeros(1)\n",
    "\n",
    "    for objective_contribution in objective_contributions:\n",
    "        loss += objective_contribution(parameter_delta, parameter_delta_ids)\n",
    "\n",
    "    loss.backward()\n",
    "\n",
    "    optimizer.step()\n",
    "    optimizer.zero_grad()\n",
    "\n",
    "    if epoch % 20 == 0:\n",
    "        print(f\"Epoch {epoch}: loss={loss.item()}\")"
   ],
   "metadata": {
    "collapsed": false,
    "pycharm": {
     "name": "#%%\n"
    }
   }
  },
  {
   "cell_type": "markdown",
   "source": [
    "where the only code of note is the loop over our objective contributions which get added to the total\n",
    "loss function.\n",
    "\n",
    "We can save our trained parameters back to a SMIRNOFF `.offxml` file for future use:"
   ],
   "metadata": {
    "collapsed": false,
    "pycharm": {
     "name": "#%% md\n"
    }
   }
  },
  {
   "cell_type": "code",
   "execution_count": 11,
   "outputs": [],
   "source": [
    "from descent.utilities.smirnoff import perturb_force_field\n",
    "\n",
    "final_force_field = perturb_force_field(\n",
    "    initial_force_field, parameter_delta, parameter_delta_ids\n",
    ")\n",
    "final_force_field.to_file(\"final.offxml\")"
   ],
   "metadata": {
    "collapsed": false,
    "pycharm": {
     "name": "#%%\n"
    }
   }
  }
 ],
 "metadata": {
  "kernelspec": {
   "display_name": "Python 3",
   "language": "python",
   "name": "python3"
  },
  "language_info": {
   "codemirror_mode": {
    "name": "ipython",
    "version": 2
   },
   "file_extension": ".py",
   "mimetype": "text/x-python",
   "name": "python",
   "nbconvert_exporter": "python",
   "pygments_lexer": "ipython2",
   "version": "2.7.6"
  }
 },
 "nbformat": 4,
 "nbformat_minor": 0
}